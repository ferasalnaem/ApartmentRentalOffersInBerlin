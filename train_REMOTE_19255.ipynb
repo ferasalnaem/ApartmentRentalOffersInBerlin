{
 "cells": [
  {
   "cell_type": "code",
   "execution_count": 106,
   "metadata": {},
   "outputs": [],
   "source": [
    "# To add a new cell, type '# %%'\n",
    "# To add a new markdown cell, type '# %% [markdown]'\n",
    "# %%\n",
    "from IPython import get_ipython\n"
   ]
  },
  {
   "cell_type": "code",
   "execution_count": 107,
   "metadata": {},
   "outputs": [],
   "source": [
    "# Python ≥3.5 is required\n",
    "import sys\n",
    "assert sys.version_info >= (3, 5)\n",
    "\n",
    "# Scikit-Learn ≥0.20 is required\n",
    "import sklearn\n",
    "assert sklearn.__version__ >= \"0.20\"\n",
    "\n",
    "# Common imports\n",
    "import numpy as np\n",
    "import os\n",
    "\n",
    "# To plot pretty figures\n",
    "get_ipython().run_line_magic('matplotlib', 'inline')\n",
    "import matplotlib as mpl\n",
    "import matplotlib.pyplot as plt\n",
    "mpl.rc('axes', labelsize=14)\n",
    "mpl.rc('xtick', labelsize=12)\n",
    "mpl.rc('ytick', labelsize=12)\n",
    "\n",
    "# Ignore useless warnings (see SciPy issue #5998)\n",
    "import warnings\n",
    "warnings.filterwarnings(action=\"ignore\", message=\"^internal gelsd\")\n"
   ]
  },
  {
   "cell_type": "code",
   "execution_count": 108,
   "metadata": {},
   "outputs": [],
   "source": [
    "import numpy as np # linear algebra\n",
    "import pandas as pd # data processing\n",
    "import matplotlib.pyplot as plt # dataviz\n",
    "import seaborn as sns # dataviz\n",
    "from pandas.plotting import scatter_matrix\n",
    "\n",
    "Rental= pd.read_csv(\"./dataset/immo_data.csv\")\n",
    "\n",
    "get_ipython().run_line_magic('matplotlib', 'inline')\n"
   ]
  },
  {
   "cell_type": "markdown",
   "metadata": {},
   "source": [
    "# Data Visualization"
   ]
  },
  {
   "cell_type": "code",
   "execution_count": 109,
   "metadata": {},
   "outputs": [
    {
     "data": {
      "text/html": [
       "<div>\n",
       "<style scoped>\n",
       "    .dataframe tbody tr th:only-of-type {\n",
       "        vertical-align: middle;\n",
       "    }\n",
       "\n",
       "    .dataframe tbody tr th {\n",
       "        vertical-align: top;\n",
       "    }\n",
       "\n",
       "    .dataframe thead th {\n",
       "        text-align: right;\n",
       "    }\n",
       "</style>\n",
       "<table border=\"1\" class=\"dataframe\">\n",
       "  <thead>\n",
       "    <tr style=\"text-align: right;\">\n",
       "      <th></th>\n",
       "      <th>serviceCharge</th>\n",
       "      <th>telekomHybridUploadSpeed</th>\n",
       "      <th>picturecount</th>\n",
       "      <th>pricetrend</th>\n",
       "      <th>telekomUploadSpeed</th>\n",
       "      <th>totalRent</th>\n",
       "      <th>yearConstructed</th>\n",
       "      <th>scoutId</th>\n",
       "      <th>noParkSpaces</th>\n",
       "      <th>yearConstructedRange</th>\n",
       "      <th>...</th>\n",
       "      <th>noRooms</th>\n",
       "      <th>thermalChar</th>\n",
       "      <th>floor</th>\n",
       "      <th>numberOfFloors</th>\n",
       "      <th>noRoomsRange</th>\n",
       "      <th>livingSpaceRange</th>\n",
       "      <th>heatingCosts</th>\n",
       "      <th>lastRefurbish</th>\n",
       "      <th>electricityBasePrice</th>\n",
       "      <th>electricityKwhPrice</th>\n",
       "    </tr>\n",
       "  </thead>\n",
       "  <tbody>\n",
       "    <tr>\n",
       "      <th>count</th>\n",
       "      <td>261936.000000</td>\n",
       "      <td>45041.0</td>\n",
       "      <td>268849.000000</td>\n",
       "      <td>267029.000000</td>\n",
       "      <td>235509.000000</td>\n",
       "      <td>2.283470e+05</td>\n",
       "      <td>211813.000000</td>\n",
       "      <td>2.688490e+05</td>\n",
       "      <td>93037.000000</td>\n",
       "      <td>211813.000000</td>\n",
       "      <td>...</td>\n",
       "      <td>268849.000000</td>\n",
       "      <td>162328.000000</td>\n",
       "      <td>217528.000000</td>\n",
       "      <td>171091.000000</td>\n",
       "      <td>268849.000000</td>\n",
       "      <td>268849.000000</td>\n",
       "      <td>85518.000000</td>\n",
       "      <td>80696.000000</td>\n",
       "      <td>46787.000000</td>\n",
       "      <td>46787.000000</td>\n",
       "    </tr>\n",
       "    <tr>\n",
       "      <th>mean</th>\n",
       "      <td>151.208704</td>\n",
       "      <td>10.0</td>\n",
       "      <td>9.791876</td>\n",
       "      <td>3.387949</td>\n",
       "      <td>28.804855</td>\n",
       "      <td>9.012967e+02</td>\n",
       "      <td>1966.395797</td>\n",
       "      <td>1.069697e+08</td>\n",
       "      <td>1.327128</td>\n",
       "      <td>3.714597</td>\n",
       "      <td>...</td>\n",
       "      <td>2.641872</td>\n",
       "      <td>114.734794</td>\n",
       "      <td>2.122357</td>\n",
       "      <td>3.572421</td>\n",
       "      <td>2.571477</td>\n",
       "      <td>3.070664</td>\n",
       "      <td>77.009232</td>\n",
       "      <td>2013.908942</td>\n",
       "      <td>89.112362</td>\n",
       "      <td>0.199762</td>\n",
       "    </tr>\n",
       "    <tr>\n",
       "      <th>std</th>\n",
       "      <td>308.308381</td>\n",
       "      <td>0.0</td>\n",
       "      <td>6.406189</td>\n",
       "      <td>1.964906</td>\n",
       "      <td>16.336629</td>\n",
       "      <td>3.323732e+04</td>\n",
       "      <td>47.052530</td>\n",
       "      <td>1.250095e+07</td>\n",
       "      <td>8.360360</td>\n",
       "      <td>2.738214</td>\n",
       "      <td>...</td>\n",
       "      <td>2.665693</td>\n",
       "      <td>61.636095</td>\n",
       "      <td>3.634880</td>\n",
       "      <td>6.376146</td>\n",
       "      <td>0.937624</td>\n",
       "      <td>1.407012</td>\n",
       "      <td>147.726834</td>\n",
       "      <td>10.960901</td>\n",
       "      <td>5.397662</td>\n",
       "      <td>0.009662</td>\n",
       "    </tr>\n",
       "    <tr>\n",
       "      <th>min</th>\n",
       "      <td>0.000000</td>\n",
       "      <td>10.0</td>\n",
       "      <td>0.000000</td>\n",
       "      <td>-12.330000</td>\n",
       "      <td>1.000000</td>\n",
       "      <td>0.000000e+00</td>\n",
       "      <td>1000.000000</td>\n",
       "      <td>2.887174e+07</td>\n",
       "      <td>0.000000</td>\n",
       "      <td>1.000000</td>\n",
       "      <td>...</td>\n",
       "      <td>1.000000</td>\n",
       "      <td>0.100000</td>\n",
       "      <td>-1.000000</td>\n",
       "      <td>0.000000</td>\n",
       "      <td>1.000000</td>\n",
       "      <td>1.000000</td>\n",
       "      <td>0.000000</td>\n",
       "      <td>1015.000000</td>\n",
       "      <td>71.430000</td>\n",
       "      <td>0.170500</td>\n",
       "    </tr>\n",
       "    <tr>\n",
       "      <th>25%</th>\n",
       "      <td>95.000000</td>\n",
       "      <td>10.0</td>\n",
       "      <td>6.000000</td>\n",
       "      <td>2.000000</td>\n",
       "      <td>10.000000</td>\n",
       "      <td>4.699950e+02</td>\n",
       "      <td>1950.000000</td>\n",
       "      <td>1.066910e+08</td>\n",
       "      <td>1.000000</td>\n",
       "      <td>1.000000</td>\n",
       "      <td>...</td>\n",
       "      <td>2.000000</td>\n",
       "      <td>79.000000</td>\n",
       "      <td>1.000000</td>\n",
       "      <td>2.000000</td>\n",
       "      <td>2.000000</td>\n",
       "      <td>2.000000</td>\n",
       "      <td>54.000000</td>\n",
       "      <td>2012.000000</td>\n",
       "      <td>90.760000</td>\n",
       "      <td>0.191500</td>\n",
       "    </tr>\n",
       "    <tr>\n",
       "      <th>50%</th>\n",
       "      <td>135.000000</td>\n",
       "      <td>10.0</td>\n",
       "      <td>9.000000</td>\n",
       "      <td>3.390000</td>\n",
       "      <td>40.000000</td>\n",
       "      <td>6.500000e+02</td>\n",
       "      <td>1973.000000</td>\n",
       "      <td>1.111584e+08</td>\n",
       "      <td>1.000000</td>\n",
       "      <td>3.000000</td>\n",
       "      <td>...</td>\n",
       "      <td>3.000000</td>\n",
       "      <td>107.000000</td>\n",
       "      <td>2.000000</td>\n",
       "      <td>3.000000</td>\n",
       "      <td>3.000000</td>\n",
       "      <td>3.000000</td>\n",
       "      <td>70.000000</td>\n",
       "      <td>2017.000000</td>\n",
       "      <td>90.760000</td>\n",
       "      <td>0.198500</td>\n",
       "    </tr>\n",
       "    <tr>\n",
       "      <th>75%</th>\n",
       "      <td>190.000000</td>\n",
       "      <td>10.0</td>\n",
       "      <td>13.000000</td>\n",
       "      <td>4.570000</td>\n",
       "      <td>40.000000</td>\n",
       "      <td>9.850000e+02</td>\n",
       "      <td>1996.000000</td>\n",
       "      <td>1.137688e+08</td>\n",
       "      <td>1.000000</td>\n",
       "      <td>5.000000</td>\n",
       "      <td>...</td>\n",
       "      <td>3.000000</td>\n",
       "      <td>140.300000</td>\n",
       "      <td>3.000000</td>\n",
       "      <td>4.000000</td>\n",
       "      <td>3.000000</td>\n",
       "      <td>4.000000</td>\n",
       "      <td>90.000000</td>\n",
       "      <td>2019.000000</td>\n",
       "      <td>90.760000</td>\n",
       "      <td>0.205500</td>\n",
       "    </tr>\n",
       "    <tr>\n",
       "      <th>max</th>\n",
       "      <td>146118.000000</td>\n",
       "      <td>10.0</td>\n",
       "      <td>121.000000</td>\n",
       "      <td>14.920000</td>\n",
       "      <td>100.000000</td>\n",
       "      <td>1.575154e+07</td>\n",
       "      <td>2090.000000</td>\n",
       "      <td>1.157117e+08</td>\n",
       "      <td>2241.000000</td>\n",
       "      <td>9.000000</td>\n",
       "      <td>...</td>\n",
       "      <td>999.990000</td>\n",
       "      <td>1996.000000</td>\n",
       "      <td>999.000000</td>\n",
       "      <td>999.000000</td>\n",
       "      <td>5.000000</td>\n",
       "      <td>7.000000</td>\n",
       "      <td>12613.000000</td>\n",
       "      <td>2919.000000</td>\n",
       "      <td>90.760000</td>\n",
       "      <td>0.227600</td>\n",
       "    </tr>\n",
       "  </tbody>\n",
       "</table>\n",
       "<p>8 rows × 24 columns</p>\n",
       "</div>"
      ],
      "text/plain": [
       "       serviceCharge  telekomHybridUploadSpeed   picturecount     pricetrend  \\\n",
       "count  261936.000000                   45041.0  268849.000000  267029.000000   \n",
       "mean      151.208704                      10.0       9.791876       3.387949   \n",
       "std       308.308381                       0.0       6.406189       1.964906   \n",
       "min         0.000000                      10.0       0.000000     -12.330000   \n",
       "25%        95.000000                      10.0       6.000000       2.000000   \n",
       "50%       135.000000                      10.0       9.000000       3.390000   \n",
       "75%       190.000000                      10.0      13.000000       4.570000   \n",
       "max    146118.000000                      10.0     121.000000      14.920000   \n",
       "\n",
       "       telekomUploadSpeed     totalRent  yearConstructed       scoutId  \\\n",
       "count       235509.000000  2.283470e+05    211813.000000  2.688490e+05   \n",
       "mean            28.804855  9.012967e+02      1966.395797  1.069697e+08   \n",
       "std             16.336629  3.323732e+04        47.052530  1.250095e+07   \n",
       "min              1.000000  0.000000e+00      1000.000000  2.887174e+07   \n",
       "25%             10.000000  4.699950e+02      1950.000000  1.066910e+08   \n",
       "50%             40.000000  6.500000e+02      1973.000000  1.111584e+08   \n",
       "75%             40.000000  9.850000e+02      1996.000000  1.137688e+08   \n",
       "max            100.000000  1.575154e+07      2090.000000  1.157117e+08   \n",
       "\n",
       "       noParkSpaces  yearConstructedRange  ...        noRooms    thermalChar  \\\n",
       "count  93037.000000         211813.000000  ...  268849.000000  162328.000000   \n",
       "mean       1.327128              3.714597  ...       2.641872     114.734794   \n",
       "std        8.360360              2.738214  ...       2.665693      61.636095   \n",
       "min        0.000000              1.000000  ...       1.000000       0.100000   \n",
       "25%        1.000000              1.000000  ...       2.000000      79.000000   \n",
       "50%        1.000000              3.000000  ...       3.000000     107.000000   \n",
       "75%        1.000000              5.000000  ...       3.000000     140.300000   \n",
       "max     2241.000000              9.000000  ...     999.990000    1996.000000   \n",
       "\n",
       "               floor  numberOfFloors   noRoomsRange  livingSpaceRange  \\\n",
       "count  217528.000000   171091.000000  268849.000000     268849.000000   \n",
       "mean        2.122357        3.572421       2.571477          3.070664   \n",
       "std         3.634880        6.376146       0.937624          1.407012   \n",
       "min        -1.000000        0.000000       1.000000          1.000000   \n",
       "25%         1.000000        2.000000       2.000000          2.000000   \n",
       "50%         2.000000        3.000000       3.000000          3.000000   \n",
       "75%         3.000000        4.000000       3.000000          4.000000   \n",
       "max       999.000000      999.000000       5.000000          7.000000   \n",
       "\n",
       "       heatingCosts  lastRefurbish  electricityBasePrice  electricityKwhPrice  \n",
       "count  85518.000000   80696.000000          46787.000000         46787.000000  \n",
       "mean      77.009232    2013.908942             89.112362             0.199762  \n",
       "std      147.726834      10.960901              5.397662             0.009662  \n",
       "min        0.000000    1015.000000             71.430000             0.170500  \n",
       "25%       54.000000    2012.000000             90.760000             0.191500  \n",
       "50%       70.000000    2017.000000             90.760000             0.198500  \n",
       "75%       90.000000    2019.000000             90.760000             0.205500  \n",
       "max    12613.000000    2919.000000             90.760000             0.227600  \n",
       "\n",
       "[8 rows x 24 columns]"
      ]
     },
     "execution_count": 109,
     "metadata": {},
     "output_type": "execute_result"
    }
   ],
   "source": [
    "Rental.describe() #shows a summary of the numerical attributes\n"
   ]
  },
  {
   "cell_type": "code",
   "execution_count": 110,
   "metadata": {},
   "outputs": [
    {
     "name": "stdout",
     "output_type": "stream",
     "text": [
      "<class 'pandas.core.frame.DataFrame'>\n",
      "RangeIndex: 268849 entries, 0 to 268848\n",
      "Data columns (total 49 columns):\n",
      " #   Column                    Non-Null Count   Dtype  \n",
      "---  ------                    --------------   -----  \n",
      " 0   regio1                    268849 non-null  object \n",
      " 1   serviceCharge             261936 non-null  float64\n",
      " 2   heatingType               224005 non-null  object \n",
      " 3   telekomTvOffer            236250 non-null  object \n",
      " 4   telekomHybridUploadSpeed  45041 non-null   float64\n",
      " 5   newlyConst                268849 non-null  bool   \n",
      " 6   balcony                   268849 non-null  bool   \n",
      " 7   picturecount              268849 non-null  int64  \n",
      " 8   pricetrend                267029 non-null  float64\n",
      " 9   telekomUploadSpeed        235509 non-null  float64\n",
      " 10  totalRent                 228347 non-null  float64\n",
      " 11  yearConstructed           211813 non-null  float64\n",
      " 12  scoutId                   268849 non-null  int64  \n",
      " 13  noParkSpaces              93037 non-null   float64\n",
      " 14  firingTypes               211882 non-null  object \n",
      " 15  hasKitchen                268849 non-null  bool   \n",
      " 16  geo_bln                   268849 non-null  object \n",
      " 17  cellar                    268849 non-null  bool   \n",
      " 18  yearConstructedRange      211813 non-null  float64\n",
      " 19  baseRent                  268849 non-null  float64\n",
      " 20  houseNumber               197827 non-null  object \n",
      " 21  livingSpace               268849 non-null  float64\n",
      " 22  geo_krs                   268849 non-null  object \n",
      " 23  condition                 200352 non-null  object \n",
      " 24  interiorQual              156158 non-null  object \n",
      " 25  petsAllowed               154249 non-null  object \n",
      " 26  street                    268849 non-null  object \n",
      " 27  streetPlain               197832 non-null  object \n",
      " 28  lift                      268849 non-null  bool   \n",
      " 29  baseRentRange             268849 non-null  int64  \n",
      " 30  typeOfFlat                232215 non-null  object \n",
      " 31  geo_plz                   268849 non-null  int64  \n",
      " 32  noRooms                   268849 non-null  float64\n",
      " 33  thermalChar               162328 non-null  float64\n",
      " 34  floor                     217528 non-null  float64\n",
      " 35  numberOfFloors            171091 non-null  float64\n",
      " 36  noRoomsRange              268849 non-null  int64  \n",
      " 37  garden                    268849 non-null  bool   \n",
      " 38  livingSpaceRange          268849 non-null  int64  \n",
      " 39  regio2                    268849 non-null  object \n",
      " 40  regio3                    268849 non-null  object \n",
      " 41  description               249102 non-null  object \n",
      " 42  facilities                215924 non-null  object \n",
      " 43  heatingCosts              85518 non-null   float64\n",
      " 44  energyEfficiencyClass     77792 non-null   object \n",
      " 45  lastRefurbish             80696 non-null   float64\n",
      " 46  electricityBasePrice      46787 non-null   float64\n",
      " 47  electricityKwhPrice       46787 non-null   float64\n",
      " 48  date                      268849 non-null  object \n",
      "dtypes: bool(6), float64(18), int64(6), object(19)\n",
      "memory usage: 89.7+ MB\n"
     ]
    }
   ],
   "source": [
    "Rental.info()"
   ]
  },
  {
   "cell_type": "code",
   "execution_count": 111,
   "metadata": {},
   "outputs": [
    {
     "data": {
      "text/plain": [
       "Leipzig                         13720\n",
       "Chemnitz                        12576\n",
       "Berlin                          10406\n",
       "Dresden                          7524\n",
       "Magdeburg                        4859\n",
       "                                ...  \n",
       "Lichtenfels_Kreis                  31\n",
       "Freyung_Grafenau_Kreis             30\n",
       "Haßberge_Kreis                     24\n",
       "Neustadt_a.d._Waldnaab_Kreis       16\n",
       "Kronach_Kreis                      12\n",
       "Name: regio2, Length: 419, dtype: int64"
      ]
     },
     "execution_count": 111,
     "metadata": {},
     "output_type": "execute_result"
    }
   ],
   "source": [
    "Rental[\"regio2\"].value_counts() # to see how many ditricts have the city Berlin"
   ]
  },
  {
   "cell_type": "code",
   "execution_count": 112,
   "metadata": {},
   "outputs": [
    {
     "name": "stdout",
     "output_type": "stream",
     "text": [
      "        regio1  serviceCharge                     heatingType telekomTvOffer  \\\n",
      "19      Berlin         250.00                   floor_heating  ONE_YEAR_FREE   \n",
      "48      Berlin         125.00                district_heating  ONE_YEAR_FREE   \n",
      "85      Berlin         230.00                     gas_heating  ONE_YEAR_FREE   \n",
      "104     Berlin         105.00                 central_heating  ONE_YEAR_FREE   \n",
      "151     Berlin         206.00                 central_heating  ONE_YEAR_FREE   \n",
      "...        ...            ...                             ...            ...   \n",
      "268729  Berlin         100.00                 central_heating  ONE_YEAR_FREE   \n",
      "268800  Berlin         350.00                 central_heating  ONE_YEAR_FREE   \n",
      "268831  Berlin          80.04  self_contained_central_heating  ONE_YEAR_FREE   \n",
      "268834  Berlin         324.47                 central_heating  ONE_YEAR_FREE   \n",
      "268848  Berlin         233.08                 central_heating  ONE_YEAR_FREE   \n",
      "\n",
      "        telekomHybridUploadSpeed  newlyConst  balcony  picturecount  \\\n",
      "19                           NaN        True     True            18   \n",
      "48                           NaN        True     True             2   \n",
      "85                           NaN       False    False            11   \n",
      "104                          NaN       False    False             9   \n",
      "151                         10.0       False     True            13   \n",
      "...                          ...         ...      ...           ...   \n",
      "268729                       NaN       False    False             8   \n",
      "268800                       NaN       False    False            16   \n",
      "268831                       NaN       False    False             8   \n",
      "268834                       NaN       False     True            25   \n",
      "268848                       NaN       False    False             7   \n",
      "\n",
      "        pricetrend  telekomUploadSpeed  ...  regio2  \\\n",
      "19            8.23                40.0  ...  Berlin   \n",
      "48            7.56                40.0  ...  Berlin   \n",
      "85            5.41                40.0  ...  Berlin   \n",
      "104           8.63                40.0  ...  Berlin   \n",
      "151          10.27                 2.4  ...  Berlin   \n",
      "...            ...                 ...  ...     ...   \n",
      "268729        7.14                40.0  ...  Berlin   \n",
      "268800        8.79                40.0  ...  Berlin   \n",
      "268831        7.59                40.0  ...  Berlin   \n",
      "268834        7.37                10.0  ...  Berlin   \n",
      "268848        8.60                10.0  ...  Berlin   \n",
      "\n",
      "                               regio3  \\\n",
      "19      Friedrichshain_Friedrichshain   \n",
      "48          Niederschöneweide_Treptow   \n",
      "85                Tegel_Reinickendorf   \n",
      "104               Kreuzberg_Kreuzberg   \n",
      "151     Friedrichshain_Friedrichshain   \n",
      "...                               ...   \n",
      "268729         Baumschulenweg_Treptow   \n",
      "268800        Wilmersdorf_Wilmersdorf   \n",
      "268831              Lankwitz_Steglitz   \n",
      "268834        Wilmersdorf_Wilmersdorf   \n",
      "268848          Schöneberg_Schöneberg   \n",
      "\n",
      "                                              description  \\\n",
      "19      Mit dem BOX SEVEN entsteht auf dem rund 26.000...   \n",
      "48      Die Wohnung hat eine großzügige ebenerdige Ter...   \n",
      "85      Diese sonnige 3-Zimmerwohnung befindet sich in...   \n",
      "104     Der attraktive, denkmalgeschützte Altbau, der ...   \n",
      "151     Diese stilvolle, helle Neubau-Wohnung befindet...   \n",
      "...                                                   ...   \n",
      "268729  Besichtigung am 10.10. um 15:00 Uhr. Der Treff...   \n",
      "268800  Zu der Wohnung zählen vier attraktive Zimmer, ...   \n",
      "268831    Gepflegtes Mehrfamilienhaus in Berlin-Lankwitz.   \n",
      "268834  Die komfortable Maisonette-Wohnung (5., 6. und...   \n",
      "268848                  Die Wohnung ist nicht WG geeignet   \n",
      "\n",
      "                                               facilities heatingCosts  \\\n",
      "19      + Südbalkon\\r\\n\\r\\n+ Einbauschrank im Schlafzi...          NaN   \n",
      "48      Bad: mit ebenerdiger Dusche, \\nHandtuchradiato...        54.00   \n",
      "85                                     Gäste WC, Hauswart          NaN   \n",
      "104     - Hochwertiger kernsanierter Altbau\\r\\n- Erstb...          NaN   \n",
      "151     Zur Anmietung steht eine 2-Zimmer Wohnung im 4...          NaN   \n",
      "...                                                   ...          ...   \n",
      "268729  - 2 Zimmer\\n- Dielenboden in den Zimmern\\n- PV...        40.00   \n",
      "268800  Eichenparkett im Wohnzimmer, \\nDielenfußboden ...          NaN   \n",
      "268831                                                NaN          NaN   \n",
      "268834  Einbauküche mit Elektrogeräten\\n-Kühl-Gefrierk...       121.00   \n",
      "268848                                                NaN       116.54   \n",
      "\n",
      "        energyEfficiencyClass lastRefurbish  electricityBasePrice  \\\n",
      "19                        NaN           NaN                   NaN   \n",
      "48                          B           NaN                   NaN   \n",
      "85                          F           NaN                   NaN   \n",
      "104                       NaN           NaN                   NaN   \n",
      "151                       NaN           NaN                   NaN   \n",
      "...                       ...           ...                   ...   \n",
      "268729                    NaN           NaN                   NaN   \n",
      "268800                    NaN        2019.0                   NaN   \n",
      "268831                    NaN           NaN                 90.76   \n",
      "268834         NO_INFORMATION        2019.0                   NaN   \n",
      "268848                    NaN        2011.0                 90.76   \n",
      "\n",
      "        electricityKwhPrice   date  \n",
      "19                      NaN  Oct19  \n",
      "48                      NaN  Oct19  \n",
      "85                      NaN  Feb20  \n",
      "104                     NaN  Oct19  \n",
      "151                     NaN  May19  \n",
      "...                     ...    ...  \n",
      "268729                  NaN  Oct19  \n",
      "268800                  NaN  May19  \n",
      "268831               0.1985  Sep18  \n",
      "268834                  NaN  Oct19  \n",
      "268848               0.1985  Sep18  \n",
      "\n",
      "[10406 rows x 49 columns]\n"
     ]
    }
   ],
   "source": [
    "Berlin=Rental.loc[Rental[\"regio2\"]=='Berlin'] # reducing the data set to the city of Berlin\n",
    "print(Berlin)\n"
   ]
  },
  {
   "cell_type": "code",
   "execution_count": 113,
   "metadata": {},
   "outputs": [
    {
     "data": {
      "text/plain": [
       "totalRent                   1.000000\n",
       "baseRent                    0.876431\n",
       "livingSpace                 0.747748\n",
       "serviceCharge               0.701983\n",
       "baseRentRange               0.630741\n",
       "livingSpaceRange            0.629388\n",
       "noRoomsRange                0.517548\n",
       "heatingCosts                0.439351\n",
       "noRooms                     0.415801\n",
       "picturecount                0.297007\n",
       "hasKitchen                  0.220137\n",
       "lift                        0.197116\n",
       "yearConstructedRange        0.179634\n",
       "balcony                     0.145889\n",
       "cellar                      0.105148\n",
       "newlyConst                  0.097460\n",
       "garden                      0.097199\n",
       "floor                       0.068278\n",
       "yearConstructed             0.066111\n",
       "numberOfFloors              0.041601\n",
       "lastRefurbish               0.034407\n",
       "pricetrend                  0.015857\n",
       "electricityBasePrice        0.006113\n",
       "electricityKwhPrice        -0.006113\n",
       "scoutId                    -0.025795\n",
       "noParkSpaces               -0.038506\n",
       "telekomUploadSpeed         -0.062011\n",
       "thermalChar                -0.092246\n",
       "geo_plz                    -0.222215\n",
       "telekomHybridUploadSpeed         NaN\n",
       "Name: totalRent, dtype: float64"
      ]
     },
     "execution_count": 113,
     "metadata": {},
     "output_type": "execute_result"
    }
   ],
   "source": [
    "corr_matrix = Berlin.corr()# to find out correlations\n",
    "corr_matrix[\"totalRent\"].sort_values(ascending=False)\n"
   ]
  },
  {
   "cell_type": "code",
   "execution_count": 114,
   "metadata": {},
   "outputs": [
    {
     "data": {
      "text/plain": [
       "baseRent                    1.000000\n",
       "totalRent                   0.876431\n",
       "livingSpace                 0.830674\n",
       "serviceCharge               0.734748\n",
       "baseRentRange               0.731546\n",
       "livingSpaceRange            0.704301\n",
       "noRoomsRange                0.583292\n",
       "heatingCosts                0.571913\n",
       "noRooms                     0.475541\n",
       "picturecount                0.335906\n",
       "hasKitchen                  0.266178\n",
       "lift                        0.225659\n",
       "yearConstructedRange        0.177993\n",
       "balcony                     0.170298\n",
       "cellar                      0.122512\n",
       "newlyConst                  0.118501\n",
       "garden                      0.106234\n",
       "floor                       0.072635\n",
       "yearConstructed             0.056400\n",
       "numberOfFloors              0.051537\n",
       "lastRefurbish               0.046471\n",
       "pricetrend                  0.014995\n",
       "electricityBasePrice        0.006246\n",
       "scoutId                    -0.005969\n",
       "electricityKwhPrice        -0.006246\n",
       "noParkSpaces               -0.043217\n",
       "telekomUploadSpeed         -0.079268\n",
       "thermalChar                -0.101178\n",
       "geo_plz                    -0.267988\n",
       "telekomHybridUploadSpeed         NaN\n",
       "Name: baseRent, dtype: float64"
      ]
     },
     "execution_count": 114,
     "metadata": {},
     "output_type": "execute_result"
    }
   ],
   "source": [
    "Berlin.corr()[\"baseRent\"].sort_values(ascending=False)\n"
   ]
  },
  {
   "cell_type": "code",
   "execution_count": 115,
   "metadata": {},
   "outputs": [
    {
     "name": "stderr",
     "output_type": "stream",
     "text": [
      "<string>:6: RuntimeWarning: Converting input from bool to <class 'numpy.uint8'> for compatibility.\n"
     ]
    },
    {
     "ename": "TypeError",
     "evalue": "numpy boolean subtract, the `-` operator, is not supported, use the bitwise_xor, the `^` operator, or the logical_xor function instead.",
     "output_type": "error",
     "traceback": [
      "\u001b[0;31m---------------------------------------------------------------------------\u001b[0m",
      "\u001b[0;31mKeyError\u001b[0m                                  Traceback (most recent call last)",
      "\u001b[0;32m~/anaconda3/lib/python3.7/site-packages/numpy/lib/histograms.py\u001b[0m in \u001b[0;36m_unsigned_subtract\u001b[0;34m(a, b)\u001b[0m\n\u001b[1;32m    353\u001b[0m     \u001b[0;32mtry\u001b[0m\u001b[0;34m:\u001b[0m\u001b[0;34m\u001b[0m\u001b[0;34m\u001b[0m\u001b[0m\n\u001b[0;32m--> 354\u001b[0;31m         \u001b[0mdt\u001b[0m \u001b[0;34m=\u001b[0m \u001b[0msigned_to_unsigned\u001b[0m\u001b[0;34m[\u001b[0m\u001b[0mdt\u001b[0m\u001b[0;34m.\u001b[0m\u001b[0mtype\u001b[0m\u001b[0;34m]\u001b[0m\u001b[0;34m\u001b[0m\u001b[0;34m\u001b[0m\u001b[0m\n\u001b[0m\u001b[1;32m    355\u001b[0m     \u001b[0;32mexcept\u001b[0m \u001b[0mKeyError\u001b[0m\u001b[0;34m:\u001b[0m\u001b[0;34m\u001b[0m\u001b[0;34m\u001b[0m\u001b[0m\n",
      "\u001b[0;31mKeyError\u001b[0m: <class 'numpy.bool_'>",
      "\nDuring handling of the above exception, another exception occurred:\n",
      "\u001b[0;31mTypeError\u001b[0m                                 Traceback (most recent call last)",
      "\u001b[0;32m<ipython-input-115-b156c2823eb2>\u001b[0m in \u001b[0;36m<module>\u001b[0;34m\u001b[0m\n\u001b[0;32m----> 1\u001b[0;31m \u001b[0mBerlin\u001b[0m\u001b[0;34m.\u001b[0m\u001b[0mhist\u001b[0m\u001b[0;34m(\u001b[0m\u001b[0mbins\u001b[0m\u001b[0;34m=\u001b[0m\u001b[0;36m50\u001b[0m\u001b[0;34m,\u001b[0m \u001b[0mfigsize\u001b[0m\u001b[0;34m=\u001b[0m\u001b[0;34m(\u001b[0m\u001b[0;36m15\u001b[0m\u001b[0;34m,\u001b[0m\u001b[0;36m15\u001b[0m\u001b[0;34m)\u001b[0m\u001b[0;34m)\u001b[0m\u001b[0;34m\u001b[0m\u001b[0;34m\u001b[0m\u001b[0m\n\u001b[0m\u001b[1;32m      2\u001b[0m \u001b[0mplt\u001b[0m\u001b[0;34m.\u001b[0m\u001b[0mshow\u001b[0m\u001b[0;34m(\u001b[0m\u001b[0;34m)\u001b[0m\u001b[0;34m\u001b[0m\u001b[0;34m\u001b[0m\u001b[0m\n",
      "\u001b[0;32m~/anaconda3/lib/python3.7/site-packages/pandas/plotting/_core.py\u001b[0m in \u001b[0;36mhist_frame\u001b[0;34m(data, column, by, grid, xlabelsize, xrot, ylabelsize, yrot, ax, sharex, sharey, figsize, layout, bins, backend, **kwargs)\u001b[0m\n\u001b[1;32m    206\u001b[0m         \u001b[0mlayout\u001b[0m\u001b[0;34m=\u001b[0m\u001b[0mlayout\u001b[0m\u001b[0;34m,\u001b[0m\u001b[0;34m\u001b[0m\u001b[0;34m\u001b[0m\u001b[0m\n\u001b[1;32m    207\u001b[0m         \u001b[0mbins\u001b[0m\u001b[0;34m=\u001b[0m\u001b[0mbins\u001b[0m\u001b[0;34m,\u001b[0m\u001b[0;34m\u001b[0m\u001b[0;34m\u001b[0m\u001b[0m\n\u001b[0;32m--> 208\u001b[0;31m         \u001b[0;34m**\u001b[0m\u001b[0mkwargs\u001b[0m\u001b[0;34m,\u001b[0m\u001b[0;34m\u001b[0m\u001b[0;34m\u001b[0m\u001b[0m\n\u001b[0m\u001b[1;32m    209\u001b[0m     )\n\u001b[1;32m    210\u001b[0m \u001b[0;34m\u001b[0m\u001b[0m\n",
      "\u001b[0;32m~/anaconda3/lib/python3.7/site-packages/pandas/plotting/_matplotlib/hist.py\u001b[0m in \u001b[0;36mhist_frame\u001b[0;34m(data, column, by, grid, xlabelsize, xrot, ylabelsize, yrot, ax, sharex, sharey, figsize, layout, bins, **kwds)\u001b[0m\n\u001b[1;32m    402\u001b[0m     \u001b[0;32mfor\u001b[0m \u001b[0mi\u001b[0m\u001b[0;34m,\u001b[0m \u001b[0mcol\u001b[0m \u001b[0;32min\u001b[0m \u001b[0menumerate\u001b[0m\u001b[0;34m(\u001b[0m\u001b[0mcom\u001b[0m\u001b[0;34m.\u001b[0m\u001b[0mtry_sort\u001b[0m\u001b[0;34m(\u001b[0m\u001b[0mdata\u001b[0m\u001b[0;34m.\u001b[0m\u001b[0mcolumns\u001b[0m\u001b[0;34m)\u001b[0m\u001b[0;34m)\u001b[0m\u001b[0;34m:\u001b[0m\u001b[0;34m\u001b[0m\u001b[0;34m\u001b[0m\u001b[0m\n\u001b[1;32m    403\u001b[0m         \u001b[0max\u001b[0m \u001b[0;34m=\u001b[0m \u001b[0m_axes\u001b[0m\u001b[0;34m[\u001b[0m\u001b[0mi\u001b[0m\u001b[0;34m]\u001b[0m\u001b[0;34m\u001b[0m\u001b[0;34m\u001b[0m\u001b[0m\n\u001b[0;32m--> 404\u001b[0;31m         \u001b[0max\u001b[0m\u001b[0;34m.\u001b[0m\u001b[0mhist\u001b[0m\u001b[0;34m(\u001b[0m\u001b[0mdata\u001b[0m\u001b[0;34m[\u001b[0m\u001b[0mcol\u001b[0m\u001b[0;34m]\u001b[0m\u001b[0;34m.\u001b[0m\u001b[0mdropna\u001b[0m\u001b[0;34m(\u001b[0m\u001b[0;34m)\u001b[0m\u001b[0;34m.\u001b[0m\u001b[0mvalues\u001b[0m\u001b[0;34m,\u001b[0m \u001b[0mbins\u001b[0m\u001b[0;34m=\u001b[0m\u001b[0mbins\u001b[0m\u001b[0;34m,\u001b[0m \u001b[0;34m**\u001b[0m\u001b[0mkwds\u001b[0m\u001b[0;34m)\u001b[0m\u001b[0;34m\u001b[0m\u001b[0;34m\u001b[0m\u001b[0m\n\u001b[0m\u001b[1;32m    405\u001b[0m         \u001b[0max\u001b[0m\u001b[0;34m.\u001b[0m\u001b[0mset_title\u001b[0m\u001b[0;34m(\u001b[0m\u001b[0mcol\u001b[0m\u001b[0;34m)\u001b[0m\u001b[0;34m\u001b[0m\u001b[0;34m\u001b[0m\u001b[0m\n\u001b[1;32m    406\u001b[0m         \u001b[0max\u001b[0m\u001b[0;34m.\u001b[0m\u001b[0mgrid\u001b[0m\u001b[0;34m(\u001b[0m\u001b[0mgrid\u001b[0m\u001b[0;34m)\u001b[0m\u001b[0;34m\u001b[0m\u001b[0;34m\u001b[0m\u001b[0m\n",
      "\u001b[0;32m~/anaconda3/lib/python3.7/site-packages/matplotlib/__init__.py\u001b[0m in \u001b[0;36minner\u001b[0;34m(ax, data, *args, **kwargs)\u001b[0m\n\u001b[1;32m   1597\u001b[0m     \u001b[0;32mdef\u001b[0m \u001b[0minner\u001b[0m\u001b[0;34m(\u001b[0m\u001b[0max\u001b[0m\u001b[0;34m,\u001b[0m \u001b[0;34m*\u001b[0m\u001b[0margs\u001b[0m\u001b[0;34m,\u001b[0m \u001b[0mdata\u001b[0m\u001b[0;34m=\u001b[0m\u001b[0;32mNone\u001b[0m\u001b[0;34m,\u001b[0m \u001b[0;34m**\u001b[0m\u001b[0mkwargs\u001b[0m\u001b[0;34m)\u001b[0m\u001b[0;34m:\u001b[0m\u001b[0;34m\u001b[0m\u001b[0;34m\u001b[0m\u001b[0m\n\u001b[1;32m   1598\u001b[0m         \u001b[0;32mif\u001b[0m \u001b[0mdata\u001b[0m \u001b[0;32mis\u001b[0m \u001b[0;32mNone\u001b[0m\u001b[0;34m:\u001b[0m\u001b[0;34m\u001b[0m\u001b[0;34m\u001b[0m\u001b[0m\n\u001b[0;32m-> 1599\u001b[0;31m             \u001b[0;32mreturn\u001b[0m \u001b[0mfunc\u001b[0m\u001b[0;34m(\u001b[0m\u001b[0max\u001b[0m\u001b[0;34m,\u001b[0m \u001b[0;34m*\u001b[0m\u001b[0mmap\u001b[0m\u001b[0;34m(\u001b[0m\u001b[0msanitize_sequence\u001b[0m\u001b[0;34m,\u001b[0m \u001b[0margs\u001b[0m\u001b[0;34m)\u001b[0m\u001b[0;34m,\u001b[0m \u001b[0;34m**\u001b[0m\u001b[0mkwargs\u001b[0m\u001b[0;34m)\u001b[0m\u001b[0;34m\u001b[0m\u001b[0;34m\u001b[0m\u001b[0m\n\u001b[0m\u001b[1;32m   1600\u001b[0m \u001b[0;34m\u001b[0m\u001b[0m\n\u001b[1;32m   1601\u001b[0m         \u001b[0mbound\u001b[0m \u001b[0;34m=\u001b[0m \u001b[0mnew_sig\u001b[0m\u001b[0;34m.\u001b[0m\u001b[0mbind\u001b[0m\u001b[0;34m(\u001b[0m\u001b[0max\u001b[0m\u001b[0;34m,\u001b[0m \u001b[0;34m*\u001b[0m\u001b[0margs\u001b[0m\u001b[0;34m,\u001b[0m \u001b[0;34m**\u001b[0m\u001b[0mkwargs\u001b[0m\u001b[0;34m)\u001b[0m\u001b[0;34m\u001b[0m\u001b[0;34m\u001b[0m\u001b[0m\n",
      "\u001b[0;32m~/anaconda3/lib/python3.7/site-packages/matplotlib/axes/_axes.py\u001b[0m in \u001b[0;36mhist\u001b[0;34m(self, x, bins, range, density, weights, cumulative, bottom, histtype, align, orientation, rwidth, log, color, label, stacked, normed, **kwargs)\u001b[0m\n\u001b[1;32m   6773\u001b[0m             \u001b[0;31m# this will automatically overwrite bins,\u001b[0m\u001b[0;34m\u001b[0m\u001b[0;34m\u001b[0m\u001b[0;34m\u001b[0m\u001b[0m\n\u001b[1;32m   6774\u001b[0m             \u001b[0;31m# so that each histogram uses the same bins\u001b[0m\u001b[0;34m\u001b[0m\u001b[0;34m\u001b[0m\u001b[0;34m\u001b[0m\u001b[0m\n\u001b[0;32m-> 6775\u001b[0;31m             \u001b[0mm\u001b[0m\u001b[0;34m,\u001b[0m \u001b[0mbins\u001b[0m \u001b[0;34m=\u001b[0m \u001b[0mnp\u001b[0m\u001b[0;34m.\u001b[0m\u001b[0mhistogram\u001b[0m\u001b[0;34m(\u001b[0m\u001b[0mx\u001b[0m\u001b[0;34m[\u001b[0m\u001b[0mi\u001b[0m\u001b[0;34m]\u001b[0m\u001b[0;34m,\u001b[0m \u001b[0mbins\u001b[0m\u001b[0;34m,\u001b[0m \u001b[0mweights\u001b[0m\u001b[0;34m=\u001b[0m\u001b[0mw\u001b[0m\u001b[0;34m[\u001b[0m\u001b[0mi\u001b[0m\u001b[0;34m]\u001b[0m\u001b[0;34m,\u001b[0m \u001b[0;34m**\u001b[0m\u001b[0mhist_kwargs\u001b[0m\u001b[0;34m)\u001b[0m\u001b[0;34m\u001b[0m\u001b[0;34m\u001b[0m\u001b[0m\n\u001b[0m\u001b[1;32m   6776\u001b[0m             \u001b[0mm\u001b[0m \u001b[0;34m=\u001b[0m \u001b[0mm\u001b[0m\u001b[0;34m.\u001b[0m\u001b[0mastype\u001b[0m\u001b[0;34m(\u001b[0m\u001b[0mfloat\u001b[0m\u001b[0;34m)\u001b[0m  \u001b[0;31m# causes problems later if it's an int\u001b[0m\u001b[0;34m\u001b[0m\u001b[0;34m\u001b[0m\u001b[0m\n\u001b[1;32m   6777\u001b[0m             \u001b[0;32mif\u001b[0m \u001b[0mmlast\u001b[0m \u001b[0;32mis\u001b[0m \u001b[0;32mNone\u001b[0m\u001b[0;34m:\u001b[0m\u001b[0;34m\u001b[0m\u001b[0;34m\u001b[0m\u001b[0m\n",
      "\u001b[0;32m<__array_function__ internals>\u001b[0m in \u001b[0;36mhistogram\u001b[0;34m(*args, **kwargs)\u001b[0m\n",
      "\u001b[0;32m~/anaconda3/lib/python3.7/site-packages/numpy/lib/histograms.py\u001b[0m in \u001b[0;36mhistogram\u001b[0;34m(a, bins, range, normed, weights, density)\u001b[0m\n\u001b[1;32m    823\u001b[0m \u001b[0;34m\u001b[0m\u001b[0m\n\u001b[1;32m    824\u001b[0m         \u001b[0;31m# Pre-compute histogram scaling factor\u001b[0m\u001b[0;34m\u001b[0m\u001b[0;34m\u001b[0m\u001b[0;34m\u001b[0m\u001b[0m\n\u001b[0;32m--> 825\u001b[0;31m         \u001b[0mnorm\u001b[0m \u001b[0;34m=\u001b[0m \u001b[0mn_equal_bins\u001b[0m \u001b[0;34m/\u001b[0m \u001b[0m_unsigned_subtract\u001b[0m\u001b[0;34m(\u001b[0m\u001b[0mlast_edge\u001b[0m\u001b[0;34m,\u001b[0m \u001b[0mfirst_edge\u001b[0m\u001b[0;34m)\u001b[0m\u001b[0;34m\u001b[0m\u001b[0;34m\u001b[0m\u001b[0m\n\u001b[0m\u001b[1;32m    826\u001b[0m \u001b[0;34m\u001b[0m\u001b[0m\n\u001b[1;32m    827\u001b[0m         \u001b[0;31m# We iterate over blocks here for two reasons: the first is that for\u001b[0m\u001b[0;34m\u001b[0m\u001b[0;34m\u001b[0m\u001b[0;34m\u001b[0m\u001b[0m\n",
      "\u001b[0;32m~/anaconda3/lib/python3.7/site-packages/numpy/lib/histograms.py\u001b[0m in \u001b[0;36m_unsigned_subtract\u001b[0;34m(a, b)\u001b[0m\n\u001b[1;32m    354\u001b[0m         \u001b[0mdt\u001b[0m \u001b[0;34m=\u001b[0m \u001b[0msigned_to_unsigned\u001b[0m\u001b[0;34m[\u001b[0m\u001b[0mdt\u001b[0m\u001b[0;34m.\u001b[0m\u001b[0mtype\u001b[0m\u001b[0;34m]\u001b[0m\u001b[0;34m\u001b[0m\u001b[0;34m\u001b[0m\u001b[0m\n\u001b[1;32m    355\u001b[0m     \u001b[0;32mexcept\u001b[0m \u001b[0mKeyError\u001b[0m\u001b[0;34m:\u001b[0m\u001b[0;34m\u001b[0m\u001b[0;34m\u001b[0m\u001b[0m\n\u001b[0;32m--> 356\u001b[0;31m         \u001b[0;32mreturn\u001b[0m \u001b[0mnp\u001b[0m\u001b[0;34m.\u001b[0m\u001b[0msubtract\u001b[0m\u001b[0;34m(\u001b[0m\u001b[0ma\u001b[0m\u001b[0;34m,\u001b[0m \u001b[0mb\u001b[0m\u001b[0;34m,\u001b[0m \u001b[0mdtype\u001b[0m\u001b[0;34m=\u001b[0m\u001b[0mdt\u001b[0m\u001b[0;34m)\u001b[0m\u001b[0;34m\u001b[0m\u001b[0;34m\u001b[0m\u001b[0m\n\u001b[0m\u001b[1;32m    357\u001b[0m     \u001b[0;32melse\u001b[0m\u001b[0;34m:\u001b[0m\u001b[0;34m\u001b[0m\u001b[0;34m\u001b[0m\u001b[0m\n\u001b[1;32m    358\u001b[0m         \u001b[0;31m# we know the inputs are integers, and we are deliberately casting\u001b[0m\u001b[0;34m\u001b[0m\u001b[0;34m\u001b[0m\u001b[0;34m\u001b[0m\u001b[0m\n",
      "\u001b[0;31mTypeError\u001b[0m: numpy boolean subtract, the `-` operator, is not supported, use the bitwise_xor, the `^` operator, or the logical_xor function instead."
     ]
    },
    {
     "data": {
      "image/png": "[encoded data removed]",
      "text/plain": [
       "<Figure size 1080x1080 with 30 Axes>"
      ]
     },
     "metadata": {
      "needs_background": "light"
     },
     "output_type": "display_data"
    }
   ],
   "source": [
    "Berlin.hist(bins=50, figsize=(15,15))\n",
    "plt.show()\n"
   ]
  },
  {
   "cell_type": "code",
   "execution_count": null,
   "metadata": {},
   "outputs": [],
   "source": [
    "attributes = [\"baseRent\",\"totalRent\",\"livingSpace\", \"serviceCharge\", \"noRooms\",\"heatingCosts\",\"picturecount\"]\n",
    "scatter_matrix(Berlin[attributes], figsize=(16, 12))\n",
    "scatter_matrix\n"
   ]
  },
  {
   "cell_type": "code",
   "execution_count": null,
   "metadata": {},
   "outputs": [],
   "source": [
    "Berlin[\"totalRent\"].describe()\n"
   ]
  },
  {
   "cell_type": "code",
   "execution_count": null,
   "metadata": {},
   "outputs": [],
   "source": [
    "plt.plot(np.log(Berlin[\"totalRent\"]))\n"
   ]
  },
  {
   "cell_type": "code",
   "execution_count": null,
   "metadata": {},
   "outputs": [],
   "source": [
    "Berlin['totalRent'].hist(bins=30, range=(100,4000), grid=True, color='#86bf91')\n",
    "plt.title('Distribution of Base Rents')\n",
    "plt.xlabel('Total Rent')\n",
    "plt.ylabel('Count')\n"
   ]
  },
  {
   "cell_type": "code",
   "execution_count": 116,
   "metadata": {
    "scrolled": true
   },
   "outputs": [
    {
     "data": {
      "text/plain": [
       "<matplotlib.axes._subplots.AxesSubplot at 0x7f6e58fcd590>"
      ]
     },
     "execution_count": 116,
     "metadata": {},
     "output_type": "execute_result"
    },
    {
     "data": {
      "image/png": "[encoded data removed]",
      "text/plain": [
       "<Figure size 432x288 with 1 Axes>"
      ]
     },
     "metadata": {
      "needs_background": "light"
     },
     "output_type": "display_data"
    }
   ],
   "source": [
    "Berlin.plot(kind=\"scatter\", x=\"livingSpace\", y=\"baseRent\", alpha=0.1)\n"
   ]
  },
  {
   "cell_type": "code",
   "execution_count": 117,
   "metadata": {},
   "outputs": [
    {
     "data": {
      "text/plain": [
       "Text(0, 0.5, 'totalRent')"
      ]
     },
     "execution_count": 117,
     "metadata": {},
     "output_type": "execute_result"
    },
    {
     "data": {
      "image/png": "[encoded data removed]",
      "text/plain": [
       "<Figure size 432x288 with 1 Axes>"
      ]
     },
     "metadata": {
      "needs_background": "light"
     },
     "output_type": "display_data"
    }
   ],
   "source": [
    "plt.scatter(x='yearConstructed', y='totalRent', data=Berlin)\n",
    "plt.title('Rent by Year of Construction')\n",
    "plt.xlabel('Year of Construction')\n",
    "plt.ylabel('totalRent')"
   ]
  },
  {
   "cell_type": "code",
   "execution_count": 118,
   "metadata": {},
   "outputs": [
    {
     "data": {
      "text/plain": [
       "Text(0, 0.5, 'baseRent')"
      ]
     },
     "execution_count": 118,
     "metadata": {},
     "output_type": "execute_result"
    },
    {
     "data": {
      "image/png": "[encoded data removed]",
      "text/plain": [
       "<Figure size 432x288 with 1 Axes>"
      ]
     },
     "metadata": {
      "needs_background": "light"
     },
     "output_type": "display_data"
    }
   ],
   "source": [
    "plt.scatter(x='livingSpace', y='baseRent', data=Berlin)\n",
    "plt.xlabel('livingSpace')\n",
    "plt.ylabel('baseRent')"
   ]
  },
  {
   "cell_type": "code",
   "execution_count": 119,
   "metadata": {},
   "outputs": [
    {
     "data": {
      "text/plain": [
       "<matplotlib.axes._subplots.AxesSubplot at 0x7f6e53ff2190>"
      ]
     },
     "execution_count": 119,
     "metadata": {},
     "output_type": "execute_result"
    },
    {
     "data": {
      "image/png": "[encoded data removed]",
      "text/plain": [
       "<Figure size 432x288 with 1 Axes>"
      ]
     },
     "metadata": {
      "needs_background": "light"
     },
     "output_type": "display_data"
    }
   ],
   "source": [
    "sns.regplot(x='livingSpace', y='baseRent', data=Berlin)"
   ]
  },
  {
   "cell_type": "code",
   "execution_count": 120,
   "metadata": {},
   "outputs": [
    {
     "data": {
      "text/plain": [
       "Text(0, 0.5, 'totalRent')"
      ]
     },
     "execution_count": 120,
     "metadata": {},
     "output_type": "execute_result"
    },
    {
     "data": {
      "image/png": "[encoded data removed]",
      "text/plain": [
       "<Figure size 432x288 with 1 Axes>"
      ]
     },
     "metadata": {
      "needs_background": "light"
     },
     "output_type": "display_data"
    }
   ],
   "source": [
    "plt.scatter(x='livingSpace', y='totalRent', data=Berlin)\n",
    "plt.xlabel('livingSpace')\n",
    "plt.ylabel('totalRent')"
   ]
  },
  {
   "cell_type": "code",
   "execution_count": 121,
   "metadata": {},
   "outputs": [
    {
     "data": {
      "text/plain": [
       "<matplotlib.axes._subplots.AxesSubplot at 0x7f6e545f2650>"
      ]
     },
     "execution_count": 121,
     "metadata": {},
     "output_type": "execute_result"
    },
    {
     "data": {
      "image/png": "[encoded data removed]",
      "text/plain": [
       "<Figure size 432x288 with 1 Axes>"
      ]
     },
     "metadata": {
      "needs_background": "light"
     },
     "output_type": "display_data"
    }
   ],
   "source": [
    "sns.regplot(x='livingSpace', y='totalRent', data=Berlin)"
   ]
  },
  {
   "cell_type": "code",
   "execution_count": 122,
   "metadata": {},
   "outputs": [
    {
     "data": {
      "text/plain": [
       "regio3\n",
       "Marzahn_Marzahn                           500.651438\n",
       "Hellersdorf_Hellersdorf                   546.908897\n",
       "Haselhorst_Spandau                        608.990000\n",
       "Staaken_Spandau                           610.255091\n",
       "Neu_Hohenschönhausen_Hohenschönhausen     612.841250\n",
       "                                            ...     \n",
       "Rummelsburg_Lichtenberg                  1776.020000\n",
       "Dahlem_Zehlendorf                        1808.883448\n",
       "Gatow_Spandau                            1825.090000\n",
       "Mitte_Mitte                              1896.462699\n",
       "Grunewald_Wilmersdorf                    2449.683763\n",
       "Name: baseRent, Length: 79, dtype: float64"
      ]
     },
     "execution_count": 122,
     "metadata": {},
     "output_type": "execute_result"
    }
   ],
   "source": [
    "m=Berlin.groupby(['regio3'])['baseRent'].mean()\n",
    "m.sort_values()\n"
   ]
  },
  {
   "cell_type": "markdown",
   "metadata": {},
   "source": [
    "# Feature egineering ( cleaning the data set)"
   ]
  },
  {
   "cell_type": "code",
   "execution_count": 123,
   "metadata": {},
   "outputs": [],
   "source": [
    "#droping initial columns\n",
    "cols_to_drop = [\"telekomHybridUploadSpeed\", \"picturecount\", \"telekomUploadSpeed\",\n",
    "                \"geo_bln\", \"houseNumber\", \"geo_krs\", \"geo_plz\", \"regio3\", \"description\",\n",
    "                \"facilities\"]\n",
    "\n",
    "Berlin = Berlin.drop(cols_to_drop, axis=1)\n",
    "\n",
    "#Columns with several NULL entries are dropped too.\n",
    "\n",
    "Berlin.isna().sum()\n",
    "\n",
    "#filter columns for berlin\n",
    "Berlin = Berlin[Berlin[\"regio2\"]==\"Berlin\"]\n",
    "\n",
    "#sorting and re_indexing regarding to the price\n",
    "Berlin = Berlin.sort_values(by=['totalRent'])\n",
    "Berlin = Berlin.reset_index(drop=True)\n",
    "\n",
    "#filter some columns between specific amount of values\n",
    "Berlin = Berlin.query(\"totalRent >= 100\").query(\"totalRent<10000\")\n",
    "Berlin = Berlin.query(\"baseRent >= 100\").query(\"baseRent<10000\")\n",
    "Berlin = Berlin.query(\"livingSpace >= 10\").query(\"livingSpace<400\")\n",
    "Berlin = Berlin.query(\"noRooms >= 0\").query(\"noRooms<15\")\n",
    "#Berlin = Berlin[np.isfinite(Berlin['totalRent'])] #drop observations where totalRent isn't available\n",
    "\n",
    "\n",
    "\n",
    "# Replacing columns with f/t with 0/1\n",
    "Berlin.replace({False: 0, True: 1}, inplace=True)\n"
   ]
  },
  {
   "cell_type": "code",
   "execution_count": 124,
   "metadata": {},
   "outputs": [],
   "source": [
    "#make a single binary variable to indicate if the apartment is refurbished/new\n",
    "Berlin['refurbished'] = (Berlin.condition == 'refurbished') | (Berlin.condition == 'first_time_use') | (Berlin.condition == 'mint_condition') | (Berlin.condition == 'fully_renovated') | (Berlin.condition == 'first_time_use_after_refurbishment')\n",
    "\n",
    "#make a binary variable to indicate if the rental property has good interior\n",
    "Berlin['greatInterior'] = (Berlin.interiorQual == 'sophisticated') | (Berlin.interiorQual == 'luxury')\n",
    "\n",
    "#make a binary variable to indicated if the rental property has good heating\n",
    "Berlin['goodHeating'] = (Berlin.heatingType == 'central_heating') | (Berlin.heatingType == 'floor_heating') | (Berlin.heatingType == 'self_contained_central_heating')\n",
    "\n",
    "#make a binary variable to identify rental ads from last year to factor in any inflationary effects.\n",
    "Berlin['2018_ads'] = (Berlin.date == 'Sep18')\n",
    "\n",
    "#transform totalRent into log(totalRent) to get a better distribution + better interpretive quality\n",
    "Berlin['logRent'] = np.log(Berlin['totalRent'])\n"
   ]
  },
  {
   "cell_type": "code",
   "execution_count": 125,
   "metadata": {},
   "outputs": [],
   "source": [
    "y_var = ['logRent']\n",
    "X_var = ['balcony', 'hasKitchen', 'cellar', 'livingSpace', 'noRooms', 'garden',\n",
    "         'refurbished', 'greatInterior', 'newlyConst',\n",
    "         '2018_ads', 'lift']\n",
    "\n",
    "\n",
    "#Berlin[X_var].replace({False: 0, True: 1}, inplace=True)\n",
    "y = Berlin[y_var].values\n",
    "X = Berlin[X_var].values\n",
    "\n",
    "#print(X)\n",
    "#print(y)\n",
    "\n",
    "from sklearn.model_selection import train_test_split\n",
    "X_train, X_test, y_train, y_test = train_test_split(X, y, test_size=0.25, \n",
    "                                                    random_state=42)\n"
   ]
  },
  {
   "cell_type": "markdown",
   "metadata": {},
   "source": [
    "# Regression Models"
   ]
  },
  {
   "cell_type": "code",
   "execution_count": 126,
   "metadata": {},
   "outputs": [
    {
     "name": "stdout",
     "output_type": "stream",
     "text": [
      "MAE: 0.19574402729645968\n",
      "MSE: 0.0635228442311826\n"
     ]
    }
   ],
   "source": [
    "#LINEAR REGRESSION\n",
    "from sklearn.linear_model import LinearRegression\n",
    "from sklearn import metrics\n",
    "\n",
    "def linearregression(xtrain, ytrain, xtest, ytest):\n",
    "    linreg = LinearRegression()\n",
    "    linreg.fit(xtrain, ytrain)\n",
    "    y_pred = linreg.predict(xtest)\n",
    "    print('MAE:', metrics.mean_absolute_error(ytest, y_pred))\n",
    "    print('MSE:', metrics.mean_squared_error(ytest, y_pred))\n",
    "\n",
    "linearregression(X_train, y_train, X_test, y_test)\n"
   ]
  },
  {
   "cell_type": "code",
   "execution_count": 127,
   "metadata": {},
   "outputs": [
    {
     "name": "stderr",
     "output_type": "stream",
     "text": [
      "/home/feras/anaconda3/lib/python3.7/site-packages/ipykernel_launcher.py:11: DataConversionWarning: A column-vector y was passed when a 1d array was expected. Please change the shape of y to (n_samples,), for example using ravel().\n",
      "  # This is added back by InteractiveShellApp.init_path()\n"
     ]
    },
    {
     "name": "stdout",
     "output_type": "stream",
     "text": [
      "MAE: 0.17667437334857536\n",
      "MSE: 0.05346448337414117\n"
     ]
    }
   ],
   "source": [
    "\n",
    "#RANDOM FOREST\n",
    "from sklearn.model_selection import RandomizedSearchCV\n",
    "from sklearn.ensemble import RandomForestRegressor\n",
    "\n",
    "#Best hyperparamters from the Random Search:\n",
    "#minsamleaf: 30, maxfeat: 11, maxdepth: 24 \n",
    "\n",
    "def randomforestreg(msl, mf, md, xtrain, ytrain, xtest, ytest):\n",
    "    rfr_best = RandomForestRegressor(n_estimators=70, random_state=1111,\n",
    "                                     max_depth=md, max_features=mf, min_samples_leaf=msl)\n",
    "    rfr_best.fit(xtrain,ytrain)\n",
    "    y_pred_rfr = rfr_best.predict(xtest)\n",
    "    print('MAE:', metrics.mean_absolute_error(ytest, y_pred_rfr))\n",
    "    print('MSE:', metrics.mean_squared_error(ytest, y_pred_rfr))\n",
    "    \n",
    "randomforestreg(30, 11, 24, X_train, y_train, X_test, y_test)\n"
   ]
  },
  {
   "cell_type": "code",
   "execution_count": 128,
   "metadata": {},
   "outputs": [
    {
     "name": "stderr",
     "output_type": "stream",
     "text": [
      "/home/feras/anaconda3/lib/python3.7/site-packages/sklearn/ensemble/_gb.py:1454: DataConversionWarning: A column-vector y was passed when a 1d array was expected. Please change the shape of y to (n_samples, ), for example using ravel().\n",
      "  y = column_or_1d(y, warn=True)\n"
     ]
    },
    {
     "name": "stdout",
     "output_type": "stream",
     "text": [
      "MAE: 0.173812715583208\n",
      "MSE: 0.0516270301241973\n"
     ]
    }
   ],
   "source": [
    "#GRADIENT BOOSTING\n",
    "from sklearn.ensemble import GradientBoostingRegressor\n",
    "\n",
    "#Best hyperparameters from Random Search:\n",
    "#maxdepth: 16, minsamleaf: 117, n: 73, maxfeat: 10, lr: 0.07\n",
    "def gradientboostingmachine(md, msl, n, mf, lr, xtrain, ytrain, xtest, ytest):\n",
    "    gbm_best = GradientBoostingRegressor(n_estimators=n, random_state=1111,\n",
    "                                         max_depth=md, max_features=mf, \n",
    "                                         min_samples_leaf=msl, learning_rate=lr\n",
    "                                         )\n",
    "    gbm_best.fit(xtrain, ytrain)\n",
    "    y_pred_gbm = gbm_best.predict(xtest)\n",
    "    print('MAE:', metrics.mean_absolute_error(ytest, y_pred_gbm))\n",
    "    print('MSE:', metrics.mean_squared_error(ytest, y_pred_gbm))\n",
    "    \n",
    "gradientboostingmachine(16, 117, 73, 10, 0.07, X_train, y_train, X_test, y_test)\n"
   ]
  },
  {
   "cell_type": "code",
   "execution_count": 129,
   "metadata": {},
   "outputs": [
    {
     "name": "stdout",
     "output_type": "stream",
     "text": [
      "Mean:\t\t  0.25375394386304634 \n",
      "Standard Deviation: 0.006884263389833272\n"
     ]
    }
   ],
   "source": [
    "from sklearn.linear_model import LinearRegression\n",
    "from sklearn.metrics import mean_squared_error\n",
    "from sklearn.model_selection import cross_val_score\n",
    "lin_reg = LinearRegression()\n",
    "\n",
    "\n",
    "scores = cross_val_score(lin_reg, X_train, y_train,\n",
    "                        scoring=\"neg_mean_squared_error\", cv=10)\n",
    "\n",
    "# find root mean squared error, scores is an array of negative numbers\n",
    "rmse_scores = np.sqrt(-scores)\n",
    "\n",
    "print(\"Mean:\\t\\t \", rmse_scores.mean(), \"\\nStandard Deviation:\", rmse_scores.std())\n"
   ]
  },
  {
   "cell_type": "code",
   "execution_count": 130,
   "metadata": {},
   "outputs": [
    {
     "name": "stderr",
     "output_type": "stream",
     "text": [
      "/home/feras/anaconda3/lib/python3.7/site-packages/ipykernel_launcher.py:3: DataConversionWarning: A column-vector y was passed when a 1d array was expected. Please change the shape of y to (n_samples,), for example using ravel().\n",
      "  This is separate from the ipykernel package so we can avoid doing imports until\n",
      "/home/feras/anaconda3/lib/python3.7/site-packages/sklearn/model_selection/_validation.py:515: DataConversionWarning: A column-vector y was passed when a 1d array was expected. Please change the shape of y to (n_samples,), for example using ravel().\n",
      "  estimator.fit(X_train, y_train, **fit_params)\n",
      "/home/feras/anaconda3/lib/python3.7/site-packages/sklearn/model_selection/_validation.py:515: DataConversionWarning: A column-vector y was passed when a 1d array was expected. Please change the shape of y to (n_samples,), for example using ravel().\n",
      "  estimator.fit(X_train, y_train, **fit_params)\n",
      "/home/feras/anaconda3/lib/python3.7/site-packages/sklearn/model_selection/_validation.py:515: DataConversionWarning: A column-vector y was passed when a 1d array was expected. Please change the shape of y to (n_samples,), for example using ravel().\n",
      "  estimator.fit(X_train, y_train, **fit_params)\n",
      "/home/feras/anaconda3/lib/python3.7/site-packages/sklearn/model_selection/_validation.py:515: DataConversionWarning: A column-vector y was passed when a 1d array was expected. Please change the shape of y to (n_samples,), for example using ravel().\n",
      "  estimator.fit(X_train, y_train, **fit_params)\n",
      "/home/feras/anaconda3/lib/python3.7/site-packages/sklearn/model_selection/_validation.py:515: DataConversionWarning: A column-vector y was passed when a 1d array was expected. Please change the shape of y to (n_samples,), for example using ravel().\n",
      "  estimator.fit(X_train, y_train, **fit_params)\n",
      "/home/feras/anaconda3/lib/python3.7/site-packages/sklearn/model_selection/_validation.py:515: DataConversionWarning: A column-vector y was passed when a 1d array was expected. Please change the shape of y to (n_samples,), for example using ravel().\n",
      "  estimator.fit(X_train, y_train, **fit_params)\n",
      "/home/feras/anaconda3/lib/python3.7/site-packages/sklearn/model_selection/_validation.py:515: DataConversionWarning: A column-vector y was passed when a 1d array was expected. Please change the shape of y to (n_samples,), for example using ravel().\n",
      "  estimator.fit(X_train, y_train, **fit_params)\n",
      "/home/feras/anaconda3/lib/python3.7/site-packages/sklearn/model_selection/_validation.py:515: DataConversionWarning: A column-vector y was passed when a 1d array was expected. Please change the shape of y to (n_samples,), for example using ravel().\n",
      "  estimator.fit(X_train, y_train, **fit_params)\n",
      "/home/feras/anaconda3/lib/python3.7/site-packages/sklearn/model_selection/_validation.py:515: DataConversionWarning: A column-vector y was passed when a 1d array was expected. Please change the shape of y to (n_samples,), for example using ravel().\n",
      "  estimator.fit(X_train, y_train, **fit_params)\n",
      "/home/feras/anaconda3/lib/python3.7/site-packages/sklearn/model_selection/_validation.py:515: DataConversionWarning: A column-vector y was passed when a 1d array was expected. Please change the shape of y to (n_samples,), for example using ravel().\n",
      "  estimator.fit(X_train, y_train, **fit_params)\n"
     ]
    }
   ],
   "source": [
    "from sklearn.ensemble import RandomForestRegressor\n",
    "forest_reg = RandomForestRegressor()\n",
    "forest_reg.fit(X_train, y_train)\n",
    "RandomForestRegressor(bootstrap=True, criterion='mse', max_depth=None,\n",
    "           max_features='auto', max_leaf_nodes=None,\n",
    "           min_impurity_decrease=0.0, min_impurity_split=None,\n",
    "           min_samples_leaf=1, min_samples_split=2,\n",
    "           min_weight_fraction_leaf=0.0, n_estimators=10, n_jobs=None,\n",
    "           oob_score=False, random_state=None, verbose=0, warm_start=False)\n",
    "forest_scores = cross_val_score(forest_reg, X_train, y_train,\n",
    "                               scoring=\"neg_mean_squared_error\", cv=10)\n",
    "forest_rmse_scores = np.sqrt(-forest_scores)\n"
   ]
  },
  {
   "cell_type": "code",
   "execution_count": 131,
   "metadata": {},
   "outputs": [
    {
     "name": "stdout",
     "output_type": "stream",
     "text": [
      "Mean:\t\t  0.23010381280896586 \n",
      "Standard Deviation: 0.005520256811839601\n"
     ]
    }
   ],
   "source": [
    "print(\"Mean:\\t\\t \", forest_rmse_scores.mean(), \"\\nStandard Deviation:\", forest_rmse_scores.std())\n"
   ]
  },
  {
   "cell_type": "code",
   "execution_count": 132,
   "metadata": {},
   "outputs": [
    {
     "name": "stderr",
     "output_type": "stream",
     "text": [
      "/home/feras/anaconda3/lib/python3.7/site-packages/ipykernel_launcher.py:14: DataConversionWarning: A column-vector y was passed when a 1d array was expected. Please change the shape of y to (n_samples,), for example using ravel().\n",
      "  \n",
      "/home/feras/anaconda3/lib/python3.7/site-packages/sklearn/ensemble/_gb.py:1454: DataConversionWarning: A column-vector y was passed when a 1d array was expected. Please change the shape of y to (n_samples, ), for example using ravel().\n",
      "  y = column_or_1d(y, warn=True)\n"
     ]
    },
    {
     "name": "stdout",
     "output_type": "stream",
     "text": [
      "MAE: 0.17505680762549497\n",
      "MSE: 0.05190116799852566\n"
     ]
    }
   ],
   "source": [
    "def stackedmodel(xtrain, ytrain, xtest, ytest):\n",
    "    x_training, x_valid, y_training, y_valid = train_test_split(xtrain, ytrain,\n",
    "                                                                test_size=0.5,\n",
    "                                                                random_state=42)\n",
    "    model1 = LinearRegression()\n",
    "    model2 = RandomForestRegressor(n_estimators=70, random_state=1111,\n",
    "                                   max_depth=24, max_features=11, \n",
    "                                   min_samples_leaf=24)\n",
    "    model3 = GradientBoostingRegressor(n_estimators=73, random_state=1111,\n",
    "                                       max_depth=16, max_features=10, \n",
    "                                       min_samples_leaf=117, learning_rate=0.07)\n",
    "    \n",
    "    model1.fit(x_training, y_training)\n",
    "    model2.fit(x_training, y_training)\n",
    "    model3.fit(x_training, y_training)\n",
    "    \n",
    "    preds1 = model1.predict(x_valid)\n",
    "    preds2 = model2.predict(x_valid)\n",
    "    preds3 = model3.predict(x_valid)\n",
    "    \n",
    "    testpreds1 = model1.predict(xtest)\n",
    "    testpreds2 = model2.predict(xtest)\n",
    "    testpreds3 = model3.predict(xtest)\n",
    "    \n",
    "    stackedpredictions = np.column_stack((preds1, preds2, preds3))\n",
    "    stackedtestpredictions = np.column_stack((testpreds1, testpreds2,\n",
    "                                              testpreds3))\n",
    "    \n",
    "    metamodel = LinearRegression()\n",
    "    metamodel.fit(stackedpredictions, y_valid)\n",
    "    final_predictions = metamodel.predict(stackedtestpredictions)\n",
    "    print('MAE:', metrics.mean_absolute_error(ytest, final_predictions))\n",
    "    print('MSE:', metrics.mean_squared_error(ytest, final_predictions))\n",
    "\n",
    "stackedmodel(X_train, y_train, X_test, y_test)\n"
   ]
  },
  {
   "cell_type": "code",
   "execution_count": null,
   "metadata": {},
   "outputs": [],
   "source": [
    "\n",
    "\n",
    "\n"
   ]
  }
 ],
 "metadata": {
  "anaconda-cloud": {},
  "kernelspec": {
   "display_name": "Python 3",
   "language": "python",
   "name": "python3"
  },
  "language_info": {
   "codemirror_mode": {
    "name": "ipython",
    "version": 3
   },
   "file_extension": ".py",
   "mimetype": "text/x-python",
   "name": "python",
   "nbconvert_exporter": "python",
   "pygments_lexer": "ipython3",
   "version": "3.7.6"
  }
 },
 "nbformat": 4,
 "nbformat_minor": 1
}
