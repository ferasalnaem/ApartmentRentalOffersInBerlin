{
 "cells": [
  {
   "cell_type": "code",
   "execution_count": null,
   "metadata": {},
   "outputs": [],
   "source": [
    "# Python ≥3.5 is required\n",
    "import sys\n",
    "assert sys.version_info >= (3, 5)\n",
    "\n",
    "# Scikit-Learn ≥0.20 is required\n",
    "import sklearn\n",
    "assert sklearn.__version__ >= \"0.20\"\n",
    "\n",
    "# Common imports\n",
    "import numpy as np\n",
    "import os\n",
    "\n",
    "# To plot pretty figures\n",
    "%matplotlib inline\n",
    "import matplotlib as mpl\n",
    "import matplotlib.pyplot as plt\n",
    "mpl.rc('axes', labelsize=14)\n",
    "mpl.rc('xtick', labelsize=12)\n",
    "mpl.rc('ytick', labelsize=12)\n",
    "\n",
    "# Ignore useless warnings (see SciPy issue #5998)\n",
    "import warnings\n",
    "warnings.filterwarnings(action=\"ignore\", message=\"^internal gelsd\")"
   ]
  },
  {
   "cell_type": "code",
   "execution_count": null,
   "metadata": {},
   "outputs": [],
   "source": [
    "import numpy as np # linear algebra\n",
    "import pandas as pd # data processing\n",
    "import matplotlib.pyplot as plt # dataviz\n",
    "import seaborn as sns # dataviz\n",
    "from pandas.plotting import scatter_matrix\n",
    "\n",
    "Rental= pd.read_csv(\"./dataset/immo_data.csv\")\n",
    "\n",
    "%matplotlib inline"
   ]
  },
  {
   "cell_type": "code",
   "execution_count": null,
   "metadata": {},
   "outputs": [],
   "source": [
    "Rental.describe() #shows a summary of the numerical attributes\n"
   ]
  },
  {
   "cell_type": "code",
   "execution_count": null,
   "metadata": {},
   "outputs": [],
   "source": [
    "* std: standard deviation, which measures how dispersed the values are\n",
    "* 25%, 50%,.. :the quartiles"
   ]
  },
  {
   "cell_type": "code",
   "execution_count": null,
   "metadata": {},
   "outputs": [],
   "source": [
    "Berlin=Rental.loc[Rental[\"regio2\"]=='Berlin']\n",
    "print(Berlin)"
   ]
  },
  {
   "cell_type": "code",
   "execution_count": null,
   "metadata": {},
   "outputs": [],
   "source": [
    "corr_matrix = Berlin.corr()\n",
    "corr_matrix[\"totalRent\"].sort_values(ascending=False)"
   ]
  },
  {
   "cell_type": "code",
   "execution_count": null,
   "metadata": {},
   "outputs": [],
   "source": [
    "attributes = [\"baseRent\",\"totalRent\",\"livingSpace\", \"serviceCharge\", \"noRooms\",\"heatingCosts\",\"picturecount\"]\n",
    "scatter_matrix(Berlin[attributes], figsize=(16, 12))\n",
    "scatter_matrix"
   ]
  },
  {
   "cell_type": "code",
   "execution_count": null,
   "metadata": {},
   "outputs": [],
   "source": [
    "Berlin['baseRent'].hist(bins=30, range=(100,4000), grid=True, color='#86bf91')\n",
    "plt.title('Distribution of Base Rents')\n",
    "plt.xlabel('Base Rent')\n",
    "plt.ylabel('Count')"
   ]
  },
  {
   "cell_type": "code",
   "execution_count": null,
   "metadata": {},
   "outputs": [],
   "source": [
    "Berlin.plot(kind=\"scatter\", x=\"livingSpace\", y=\"baseRent\", alpha=0.1)\n"
   ]
  },
  {
   "cell_type": "code",
   "execution_count": null,
   "metadata": {},
   "outputs": [],
   "source": [
    "m=Berlin.groupby(['regio3'])['baseRent'].mean()\n",
    "m.sort_values()"
   ]
  },
  {
   "cell_type": "code",
   "execution_count": null,
   "metadata": {},
   "outputs": [],
   "source": [
    "#droping initial columns\n",
    "cols_to_drop = [\"telekomHybridUploadSpeed\", \"picturecount\", \"telekomUploadSpeed\",\n",
    "                \"geo_bln\", \"houseNumber\", \"geo_krs\", \"geo_plz\", \"regio3\", \"description\",\n",
    "                \"facilities\"]\n",
    "\n",
    "Berlin = Berlin.drop(cols_to_drop, axis=1)\n",
    "\n",
    "#Columns with several NULL entries are dropped too.\n",
    "\n",
    "Berlin.isna().sum()\n",
    "\n",
    "#filter columns for berlin\n",
    "Berlin = Berlin[Berlin[\"regio2\"]==\"Berlin\"]\n",
    "\n",
    "#sorting and re_indexing regarding to the price\n",
    "Berlin = Berlin.sort_values(by=['totalRent'])\n",
    "Berlin = Berlin.reset_index(drop=True)\n",
    "\n",
    "#filter some columns between specific amount of values\n",
    "Berlin = Berlin.query(\"totalRent >= 100\").query(\"totalRent<10000\")\n",
    "Berlin = Berlin.query(\"baseRent >= 100\").query(\"baseRent<10000\")\n",
    "Berlin = Berlin.query(\"livingSpace >= 10\").query(\"livingSpace<500\")\n",
    "Berlin = Berlin.query(\"noRooms >= 0\").query(\"noRooms<15\")\n",
    "\n",
    "\n",
    "\n",
    "\n",
    "# Replacing columns with f/t with 0/1\n",
    "Berlin.replace({False: 0, True: 1}, inplace=True)"
   ]
  },
  {
   "cell_type": "code",
   "execution_count": null,
   "metadata": {},
   "outputs": [],
   "source": [
    "Berlin.head()\n"
   ]
  },
  {
   "cell_type": "code",
   "execution_count": null,
   "metadata": {},
   "outputs": [],
   "source": [
    "#make a single binary variable to indicate if the apartment is refurbished/new\n",
    "Berlin['refurbished'] = (Berlin.condition == 'refurbished') | (Berlin.condition == 'first_time_use') | \\\n",
    "                    (Berlin.condition == 'mint_condition') | (Berlin.condition == 'fully_renovated') | \\\n",
    "                    (Berlin.condition == 'first_time_use_after_refurbishment')\n",
    "\n",
    "#make a binary variable to indicate if the rental property has good interior\n",
    "Berlin['greatInterior'] = (Berlin.interiorQual == 'sophisticated') | (Berlin.interiorQual == 'luxury')\n",
    "\n",
    "#make a binary variable to indicated if the rental property has good heating\n",
    "Berlin['goodHeating'] = (Berlin.heatingType == 'central_heating') | (Berlin.heatingType == 'floor_heating') | \\\n",
    "                    (Berlin.heatingType == 'self_contained_central_heating')\n",
    "\n",
    "#make a binary variable to identify rental ads from last year to factor in any inflationary effects.\n",
    "Berlin['2018_ads'] = (Berlin.date == 'Sep18')\n",
    "\n",
    "#transform totalRent into log(totalRent) to get a better distribution + better interpretive quality\n",
    "Berlin['logRent'] = np.log(Berlin['totalRent'])"
   ]
  },
  {
   "cell_type": "code",
   "execution_count": null,
   "metadata": {},
   "outputs": [],
   "source": [
    "y_var = ['logRent']\n",
    "X_var = ['balcony', 'hasKitchen', 'cellar', 'livingSpace', 'noRooms', 'garden',\n",
    "         'refurbished', 'greatInterior', 'newlyConst',\n",
    "         '2018_ads', 'lift']\n",
    "\n",
    "\n",
    "#Berlin[X_var].replace({False: 0, True: 1}, inplace=True)\n",
    "y = Berlin[y_var].values\n",
    "X = Berlin[X_var].values\n",
    "\n",
    "#print(X)\n",
    "#print(y)\n",
    "\n",
    "from sklearn.model_selection import train_test_split\n",
    "X_train, X_test, y_train, y_test = train_test_split(X, y, test_size=0.25, \n",
    "                                                    random_state=42)"
   ]
  },
  {
   "cell_type": "code",
   "execution_count": null,
   "metadata": {},
   "outputs": [],
   "source": [
    "#LINEAR REGRESSION\n",
    "from sklearn.linear_model import LinearRegression\n",
    "from sklearn import metrics\n",
    "\n",
    "def linearregression(xtrain, ytrain, xtest, ytest):\n",
    "    linreg = LinearRegression()\n",
    "    linreg.fit(xtrain, ytrain)\n",
    "    y_pred = linreg.predict(xtest)\n",
    "    print('MAE:', metrics.mean_absolute_error(ytest, y_pred))\n",
    "    print('MSE:', metrics.mean_squared_error(ytest, y_pred))\n",
    "\n",
    "linearregression(X_train, y_train, X_test, y_test)"
   ]
  },
  {
   "cell_type": "code",
   "execution_count": null,
   "metadata": {},
   "outputs": [],
   "source": [
    "\n",
    "#RANDOM FOREST\n",
    "from sklearn.model_selection import RandomizedSearchCV\n",
    "from sklearn.ensemble import RandomForestRegressor\n",
    "\n",
    "#Best hyperparamters from the Random Search:\n",
    "#minsamleaf: 30, maxfeat: 11, maxdepth: 24 \n",
    "\n",
    "def randomforestreg(msl, mf, md, xtrain, ytrain, xtest, ytest):\n",
    "    rfr_best = RandomForestRegressor(n_estimators=70, random_state=1111,\n",
    "                                     max_depth=md, max_features=mf, min_samples_leaf=msl)\n",
    "    rfr_best.fit(xtrain,ytrain)\n",
    "    y_pred_rfr = rfr_best.predict(xtest)\n",
    "    print('MAE:', metrics.mean_absolute_error(ytest, y_pred_rfr))\n",
    "    print('MSE:', metrics.mean_squared_error(ytest, y_pred_rfr))\n",
    "    \n",
    "randomforestreg(30, 11, 24, X_train, y_train, X_test, y_test)"
   ]
  },
  {
   "cell_type": "code",
   "execution_count": null,
   "metadata": {},
   "outputs": [],
   "source": [
    "#GRADIENT BOOSTING\n",
    "from sklearn.ensemble import GradientBoostingRegressor\n",
    "\n",
    "#Best hyperparameters from Random Search:\n",
    "#maxdepth: 16, minsamleaf: 117, n: 73, maxfeat: 10, lr: 0.07\n",
    "def gradientboostingmachine(md, msl, n, mf, lr, xtrain, ytrain, xtest, ytest):\n",
    "    gbm_best = GradientBoostingRegressor(n_estimators=n, random_state=1111,\n",
    "                                         max_depth=md, max_features=mf, \n",
    "                                         min_samples_leaf=msl, learning_rate=lr\n",
    "                                         )\n",
    "    gbm_best.fit(xtrain, ytrain)\n",
    "    y_pred_gbm = gbm_best.predict(xtest)\n",
    "    print('MAE:', metrics.mean_absolute_error(ytest, y_pred_gbm))\n",
    "    print('MSE:', metrics.mean_squared_error(ytest, y_pred_gbm))\n",
    "    \n",
    "gradientboostingmachine(16, 117, 73, 10, 0.07, X_train, y_train, X_test, y_test)"
   ]
  },
  {
   "cell_type": "code",
   "execution_count": null,
   "metadata": {},
   "outputs": [],
   "source": []
  }
 ],
 "metadata": {
  "language_info": {
   "codemirror_mode": {
    "name": "ipython",
    "version": 3
   },
   "file_extension": ".py",
   "mimetype": "text/x-python",
   "name": "python",
   "nbconvert_exporter": "python",
   "pygments_lexer": "ipython3",
   "version": 3
  },
  "orig_nbformat": 2
 },
 "nbformat": 4,
 "nbformat_minor": 2
}